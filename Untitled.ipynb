{
 "cells": [
  {
   "cell_type": "code",
   "execution_count": 51,
   "metadata": {},
   "outputs": [],
   "source": [
    "import pandas as pd\n",
    "import numpy as np"
   ]
  },
  {
   "cell_type": "code",
   "execution_count": 52,
   "metadata": {},
   "outputs": [
    {
     "name": "stdout",
     "output_type": "stream",
     "text": [
      "IEEE-TCE_2020-08-0175_SaYoPillow.pdf  e-shop clothing 2008.csv\r\n",
      "IRIS.csv                              readme.docx\r\n",
      "SaYoPillow.csv                        trains vs planes.csv\r\n",
      "Untitled.ipynb\r\n"
     ]
    }
   ],
   "source": [
    "ls"
   ]
  },
  {
   "cell_type": "code",
   "execution_count": 53,
   "metadata": {},
   "outputs": [],
   "source": [
    "df1 = pd.read_csv(\"SaYoPillow.csv\")\n",
    "df2 = pd.read_csv(\"e-shop clothing 2008.csv\",delimiter=';')\n",
    "df3 = pd.read_csv(\"IRIS.csv\")"
   ]
  },
  {
   "cell_type": "code",
   "execution_count": 54,
   "metadata": {},
   "outputs": [
    {
     "data": {
      "text/plain": [
       "4    126\n",
       "3    126\n",
       "2    126\n",
       "1    126\n",
       "0    126\n",
       "Name: sl, dtype: int64"
      ]
     },
     "execution_count": 54,
     "metadata": {},
     "output_type": "execute_result"
    }
   ],
   "source": [
    "df1['sl'].value_counts()"
   ]
  },
  {
   "cell_type": "code",
   "execution_count": 55,
   "metadata": {},
   "outputs": [
    {
     "data": {
      "text/html": [
       "<div>\n",
       "<style scoped>\n",
       "    .dataframe tbody tr th:only-of-type {\n",
       "        vertical-align: middle;\n",
       "    }\n",
       "\n",
       "    .dataframe tbody tr th {\n",
       "        vertical-align: top;\n",
       "    }\n",
       "\n",
       "    .dataframe thead th {\n",
       "        text-align: right;\n",
       "    }\n",
       "</style>\n",
       "<table border=\"1\" class=\"dataframe\">\n",
       "  <thead>\n",
       "    <tr style=\"text-align: right;\">\n",
       "      <th></th>\n",
       "      <th>year</th>\n",
       "      <th>month</th>\n",
       "      <th>day</th>\n",
       "      <th>order</th>\n",
       "      <th>country</th>\n",
       "      <th>session ID</th>\n",
       "      <th>page 1 (main category)</th>\n",
       "      <th>page 2 (clothing model)</th>\n",
       "      <th>colour</th>\n",
       "      <th>location</th>\n",
       "      <th>model photography</th>\n",
       "      <th>price</th>\n",
       "      <th>price 2</th>\n",
       "      <th>page</th>\n",
       "    </tr>\n",
       "  </thead>\n",
       "  <tbody>\n",
       "    <tr>\n",
       "      <th>0</th>\n",
       "      <td>2008</td>\n",
       "      <td>4</td>\n",
       "      <td>1</td>\n",
       "      <td>1</td>\n",
       "      <td>29</td>\n",
       "      <td>1</td>\n",
       "      <td>1</td>\n",
       "      <td>A13</td>\n",
       "      <td>1</td>\n",
       "      <td>5</td>\n",
       "      <td>1</td>\n",
       "      <td>28</td>\n",
       "      <td>2</td>\n",
       "      <td>1</td>\n",
       "    </tr>\n",
       "    <tr>\n",
       "      <th>1</th>\n",
       "      <td>2008</td>\n",
       "      <td>4</td>\n",
       "      <td>1</td>\n",
       "      <td>2</td>\n",
       "      <td>29</td>\n",
       "      <td>1</td>\n",
       "      <td>1</td>\n",
       "      <td>A16</td>\n",
       "      <td>1</td>\n",
       "      <td>6</td>\n",
       "      <td>1</td>\n",
       "      <td>33</td>\n",
       "      <td>2</td>\n",
       "      <td>1</td>\n",
       "    </tr>\n",
       "    <tr>\n",
       "      <th>2</th>\n",
       "      <td>2008</td>\n",
       "      <td>4</td>\n",
       "      <td>1</td>\n",
       "      <td>3</td>\n",
       "      <td>29</td>\n",
       "      <td>1</td>\n",
       "      <td>2</td>\n",
       "      <td>B4</td>\n",
       "      <td>10</td>\n",
       "      <td>2</td>\n",
       "      <td>1</td>\n",
       "      <td>52</td>\n",
       "      <td>1</td>\n",
       "      <td>1</td>\n",
       "    </tr>\n",
       "    <tr>\n",
       "      <th>3</th>\n",
       "      <td>2008</td>\n",
       "      <td>4</td>\n",
       "      <td>1</td>\n",
       "      <td>4</td>\n",
       "      <td>29</td>\n",
       "      <td>1</td>\n",
       "      <td>2</td>\n",
       "      <td>B17</td>\n",
       "      <td>6</td>\n",
       "      <td>6</td>\n",
       "      <td>2</td>\n",
       "      <td>38</td>\n",
       "      <td>2</td>\n",
       "      <td>1</td>\n",
       "    </tr>\n",
       "    <tr>\n",
       "      <th>4</th>\n",
       "      <td>2008</td>\n",
       "      <td>4</td>\n",
       "      <td>1</td>\n",
       "      <td>5</td>\n",
       "      <td>29</td>\n",
       "      <td>1</td>\n",
       "      <td>2</td>\n",
       "      <td>B8</td>\n",
       "      <td>4</td>\n",
       "      <td>3</td>\n",
       "      <td>2</td>\n",
       "      <td>52</td>\n",
       "      <td>1</td>\n",
       "      <td>1</td>\n",
       "    </tr>\n",
       "    <tr>\n",
       "      <th>...</th>\n",
       "      <td>...</td>\n",
       "      <td>...</td>\n",
       "      <td>...</td>\n",
       "      <td>...</td>\n",
       "      <td>...</td>\n",
       "      <td>...</td>\n",
       "      <td>...</td>\n",
       "      <td>...</td>\n",
       "      <td>...</td>\n",
       "      <td>...</td>\n",
       "      <td>...</td>\n",
       "      <td>...</td>\n",
       "      <td>...</td>\n",
       "      <td>...</td>\n",
       "    </tr>\n",
       "    <tr>\n",
       "      <th>165469</th>\n",
       "      <td>2008</td>\n",
       "      <td>8</td>\n",
       "      <td>13</td>\n",
       "      <td>1</td>\n",
       "      <td>29</td>\n",
       "      <td>24024</td>\n",
       "      <td>2</td>\n",
       "      <td>B10</td>\n",
       "      <td>2</td>\n",
       "      <td>4</td>\n",
       "      <td>1</td>\n",
       "      <td>67</td>\n",
       "      <td>1</td>\n",
       "      <td>1</td>\n",
       "    </tr>\n",
       "    <tr>\n",
       "      <th>165470</th>\n",
       "      <td>2008</td>\n",
       "      <td>8</td>\n",
       "      <td>13</td>\n",
       "      <td>1</td>\n",
       "      <td>9</td>\n",
       "      <td>24025</td>\n",
       "      <td>1</td>\n",
       "      <td>A11</td>\n",
       "      <td>3</td>\n",
       "      <td>4</td>\n",
       "      <td>1</td>\n",
       "      <td>62</td>\n",
       "      <td>1</td>\n",
       "      <td>1</td>\n",
       "    </tr>\n",
       "    <tr>\n",
       "      <th>165471</th>\n",
       "      <td>2008</td>\n",
       "      <td>8</td>\n",
       "      <td>13</td>\n",
       "      <td>1</td>\n",
       "      <td>34</td>\n",
       "      <td>24026</td>\n",
       "      <td>1</td>\n",
       "      <td>A2</td>\n",
       "      <td>3</td>\n",
       "      <td>1</td>\n",
       "      <td>1</td>\n",
       "      <td>43</td>\n",
       "      <td>2</td>\n",
       "      <td>1</td>\n",
       "    </tr>\n",
       "    <tr>\n",
       "      <th>165472</th>\n",
       "      <td>2008</td>\n",
       "      <td>8</td>\n",
       "      <td>13</td>\n",
       "      <td>2</td>\n",
       "      <td>34</td>\n",
       "      <td>24026</td>\n",
       "      <td>3</td>\n",
       "      <td>C2</td>\n",
       "      <td>12</td>\n",
       "      <td>1</td>\n",
       "      <td>1</td>\n",
       "      <td>43</td>\n",
       "      <td>1</td>\n",
       "      <td>1</td>\n",
       "    </tr>\n",
       "    <tr>\n",
       "      <th>165473</th>\n",
       "      <td>2008</td>\n",
       "      <td>8</td>\n",
       "      <td>13</td>\n",
       "      <td>3</td>\n",
       "      <td>34</td>\n",
       "      <td>24026</td>\n",
       "      <td>2</td>\n",
       "      <td>B2</td>\n",
       "      <td>3</td>\n",
       "      <td>1</td>\n",
       "      <td>2</td>\n",
       "      <td>57</td>\n",
       "      <td>1</td>\n",
       "      <td>1</td>\n",
       "    </tr>\n",
       "  </tbody>\n",
       "</table>\n",
       "<p>165474 rows × 14 columns</p>\n",
       "</div>"
      ],
      "text/plain": [
       "        year  month  day  order  country  session ID  page 1 (main category)  \\\n",
       "0       2008      4    1      1       29           1                       1   \n",
       "1       2008      4    1      2       29           1                       1   \n",
       "2       2008      4    1      3       29           1                       2   \n",
       "3       2008      4    1      4       29           1                       2   \n",
       "4       2008      4    1      5       29           1                       2   \n",
       "...      ...    ...  ...    ...      ...         ...                     ...   \n",
       "165469  2008      8   13      1       29       24024                       2   \n",
       "165470  2008      8   13      1        9       24025                       1   \n",
       "165471  2008      8   13      1       34       24026                       1   \n",
       "165472  2008      8   13      2       34       24026                       3   \n",
       "165473  2008      8   13      3       34       24026                       2   \n",
       "\n",
       "       page 2 (clothing model)  colour  location  model photography  price  \\\n",
       "0                          A13       1         5                  1     28   \n",
       "1                          A16       1         6                  1     33   \n",
       "2                           B4      10         2                  1     52   \n",
       "3                          B17       6         6                  2     38   \n",
       "4                           B8       4         3                  2     52   \n",
       "...                        ...     ...       ...                ...    ...   \n",
       "165469                     B10       2         4                  1     67   \n",
       "165470                     A11       3         4                  1     62   \n",
       "165471                      A2       3         1                  1     43   \n",
       "165472                      C2      12         1                  1     43   \n",
       "165473                      B2       3         1                  2     57   \n",
       "\n",
       "        price 2  page  \n",
       "0             2     1  \n",
       "1             2     1  \n",
       "2             1     1  \n",
       "3             2     1  \n",
       "4             1     1  \n",
       "...         ...   ...  \n",
       "165469        1     1  \n",
       "165470        1     1  \n",
       "165471        2     1  \n",
       "165472        1     1  \n",
       "165473        1     1  \n",
       "\n",
       "[165474 rows x 14 columns]"
      ]
     },
     "execution_count": 55,
     "metadata": {},
     "output_type": "execute_result"
    }
   ],
   "source": [
    "df2"
   ]
  },
  {
   "cell_type": "code",
   "execution_count": 56,
   "metadata": {},
   "outputs": [],
   "source": [
    "df2 = df2.drop([\"page 2 (clothing model)\", \"year\", \"month\", \"day\", \"page\",  \"order\"], axis=1).drop_duplicates()"
   ]
  },
  {
   "cell_type": "code",
   "execution_count": 57,
   "metadata": {},
   "outputs": [],
   "source": [
    "df2 = df2.sample(1000, random_state=0)"
   ]
  },
  {
   "cell_type": "code",
   "execution_count": 58,
   "metadata": {},
   "outputs": [
    {
     "data": {
      "text/plain": [
       "1    316\n",
       "2    236\n",
       "3    228\n",
       "4    220\n",
       "Name: page 1 (main category), dtype: int64"
      ]
     },
     "execution_count": 58,
     "metadata": {},
     "output_type": "execute_result"
    }
   ],
   "source": [
    "df2['page 1 (main category)'].value_counts()"
   ]
  },
  {
   "cell_type": "code",
   "execution_count": 59,
   "metadata": {},
   "outputs": [
    {
     "data": {
      "text/plain": [
       "0.5524813237179073"
      ]
     },
     "execution_count": 59,
     "metadata": {},
     "output_type": "execute_result"
    }
   ],
   "source": [
    "42672/(42672+34565)"
   ]
  },
  {
   "cell_type": "code",
   "execution_count": 60,
   "metadata": {},
   "outputs": [
    {
     "data": {
      "text/plain": [
       "Iris-versicolor    50\n",
       "Iris-virginica     50\n",
       "Iris-setosa        50\n",
       "Name: species, dtype: int64"
      ]
     },
     "execution_count": 60,
     "metadata": {},
     "output_type": "execute_result"
    }
   ],
   "source": [
    "df3['species'].value_counts()"
   ]
  },
  {
   "cell_type": "code",
   "execution_count": 61,
   "metadata": {},
   "outputs": [
    {
     "data": {
      "text/plain": [
       "0.6666666666666666"
      ]
     },
     "execution_count": 61,
     "metadata": {},
     "output_type": "execute_result"
    }
   ],
   "source": [
    "1/(1+0.5)"
   ]
  },
  {
   "cell_type": "code",
   "execution_count": 62,
   "metadata": {},
   "outputs": [
    {
     "data": {
      "text/plain": [
       "0.7518796992481203"
      ]
     },
     "execution_count": 62,
     "metadata": {},
     "output_type": "execute_result"
    }
   ],
   "source": [
    "1/(1+0.33)"
   ]
  },
  {
   "cell_type": "code",
   "execution_count": 63,
   "metadata": {},
   "outputs": [
    {
     "data": {
      "text/plain": [
       "0.9009009009009008"
      ]
     },
     "execution_count": 63,
     "metadata": {},
     "output_type": "execute_result"
    }
   ],
   "source": [
    "1/(1+0.11)"
   ]
  },
  {
   "cell_type": "code",
   "execution_count": 64,
   "metadata": {},
   "outputs": [],
   "source": [
    "y_col = [\"sl\", \"page 1 (main category)\", \"species\"]\n",
    "minority_class = [4, 4, \"Iris-setosa\"]\n",
    "datasets = [{'balanced': df1,}, {'balanced': df2}, {'balanced': df3}]\n",
    "k_folds = []"
   ]
  },
  {
   "cell_type": "code",
   "execution_count": 65,
   "metadata": {},
   "outputs": [],
   "source": [
    "imbalance = [(\"low\", 0.5), (\"medium\", 0.33), (\"high\", 0.11)]"
   ]
  },
  {
   "cell_type": "code",
   "execution_count": 66,
   "metadata": {},
   "outputs": [],
   "source": [
    "# generate three versions of each dataset\n",
    "for i in range(3):\n",
    "    for version, frac in imbalance:\n",
    "        df_balanced = datasets[i]['balanced']\n",
    "        datasets[i][version] = pd.concat([df_balanced[df_balanced[y_col[i]]==minority_class[i]].sample(frac=frac), \n",
    "                                          df_balanced[df_balanced[y_col[i]]!=minority_class[i]]])"
   ]
  },
  {
   "cell_type": "code",
   "execution_count": 72,
   "metadata": {},
   "outputs": [],
   "source": [
    "from sklearn.ensemble import RandomForestClassifier\n",
    "from sklearn.model_selection import StratifiedKFold, cross_val_score\n",
    "from sklearn.cluster import KMeans\n",
    "from sklearn.metrics import silhouette_score, f1_score"
   ]
  },
  {
   "cell_type": "code",
   "execution_count": 73,
   "metadata": {
    "scrolled": true
   },
   "outputs": [
    {
     "name": "stderr",
     "output_type": "stream",
     "text": [
      "/opt/anaconda3/lib/python3.8/site-packages/sklearn/model_selection/_split.py:670: UserWarning: The least populated class in y has only 6 members, which is less than n_splits=10.\n",
      "  warnings.warn((\"The least populated class in y has only %d\"\n"
     ]
    }
   ],
   "source": [
    "# getting the baseline resutls for each dataset using Random Forest with 10 fold cross validation\n",
    "baseline_results = []\n",
    "for i in range(3):\n",
    "    baseline_results.append({})\n",
    "    for version , df in datasets[i].items():\n",
    "        rf = RandomForestClassifier()\n",
    "        cv = StratifiedKFold(n_splits=10)\n",
    "        y = df[y_col[i]]\n",
    "        X = df.drop(y_col[i], axis=1)\n",
    "        cv_score = cross_val_score(rf, X, y, cv=cv, scoring='f1_macro')\n",
    "        baseline_results[i][version] = {'f1_macro_mean' : cv_score.mean(), 'f1_macro_std': cv_score.std()}"
   ]
  },
  {
   "cell_type": "code",
   "execution_count": 74,
   "metadata": {},
   "outputs": [
    {
     "name": "stderr",
     "output_type": "stream",
     "text": [
      "/opt/anaconda3/lib/python3.8/site-packages/sklearn/model_selection/_split.py:670: UserWarning: The least populated class in y has only 6 members, which is less than n_splits=10.\n",
      "  warnings.warn((\"The least populated class in y has only %d\"\n"
     ]
    }
   ],
   "source": [
    "# splitting each dataset into 10 folds\n",
    "k_folds = []\n",
    "for i in range(3):\n",
    "    k_folds.append({})\n",
    "    for version , df in datasets[i].items():\n",
    "        cv = StratifiedKFold(n_splits=10)\n",
    "        y = df[y_col[i]]\n",
    "        X = df.drop(y_col[i], axis=1)\n",
    "        k_folds[i][version] = list(cv.split(X, y))"
   ]
  },
  {
   "cell_type": "code",
   "execution_count": 78,
   "metadata": {},
   "outputs": [],
   "source": [
    "results = []\n",
    "first_9_folds_cluster_info = []\n",
    "\n",
    "for i in range(3):\n",
    "    results.append({})\n",
    "    first_9_folds_cluster_info.append({})\n",
    "    for version in k_folds[i]:\n",
    "        f1_scores = []\n",
    "        \n",
    "        # going over each fold combination (9 folds for training, and one fold for testing, just like cross validation)\n",
    "        for fold in range(10):\n",
    "            # getting X_train, y_train (9 folds) , X_test , y_test (1 fold)\n",
    "            train_indecies, test_indecies = k_folds[i][version][fold]\n",
    "            df = datasets[i][version]\n",
    "            df_train = df.iloc[train_indecies]\n",
    "            df_test = df.iloc[test_indecies]\n",
    "            y_train = df_train[y_col[i]]\n",
    "            X_train = df_train.drop(y_col[i], axis=1)\n",
    "            y_test = df_train[y_col[i]]\n",
    "            X_test = df_train.drop(y_col[i], axis=1)\n",
    "            # Working out the best K for K means clustering by trying values from 2 to 5 and picking the one\n",
    "            # with highest silhouette score (based on the X_train, the 9 folds)\n",
    "            best_k = None\n",
    "            best_clustering = None\n",
    "            best_kmeans = None\n",
    "            best_score = -float('inf')\n",
    "            for k in range(2, 6):\n",
    "                kmeans = KMeans(k)\n",
    "                clusters = kmeans.fit_predict(X_train)\n",
    "                score = silhouette_score(X_train, clusters)\n",
    "                if score > best_score:\n",
    "                    best_score = score\n",
    "                    best_k = k\n",
    "                    best_clustering = clusters\n",
    "                    best_kmeans = kmeans\n",
    "            \n",
    "            # getting the cluster centres, and working out the nearest cluster for each point in the test fold\n",
    "            cluster_centers = best_kmeans.cluster_centers_\n",
    "            y_test_clustering = best_kmeans.predict(X_test)\n",
    "            y_test_pred = y_test.copy()\n",
    "            cluster_num_classes = []\n",
    "            minority_class_counts = []\n",
    "\n",
    "            for j in range(best_k):\n",
    "                # working out the number of classes in each cluster\n",
    "                cluster_classes = y_train[best_clustering == j]\n",
    "                cluster_classes_count = cluster_classes.value_counts()\n",
    "                cluster_num_classes.append(len(cluster_classes_count))\n",
    "                # find out the number of elements from the minority class for each cluster\n",
    "                minority_class_counts.append(cluster_classes_count.get(minority_class[i], 0))\n",
    "                # if there is only one class, predict each element in the test set for that cluster as that class\n",
    "                if len(cluster_classes_count) == 1:\n",
    "                    y_test_pred[y_test_clustering == j] = cluster_classes.iloc[0]\n",
    "                else:\n",
    "                    # otherwise, train a random forest classifier for that cluster and use it to predict\n",
    "                    # elements from the test set that are assigned to that cluster\n",
    "                    X_train_cluster = X_train[best_clustering == j]\n",
    "                    rf = RandomForestClassifier()\n",
    "                    rf.fit(X_train_cluster, cluster_classes)\n",
    "                    y_test_pred[y_test_clustering == j] = rf.predict(X_test[y_test_clustering == j])\n",
    "                \n",
    "            if fold == 0:\n",
    "                # for the first split, save the cluster info into first_9_folds_cluster_info\n",
    "                first_9_folds_cluster_info[i][version] = {'best_k': best_k, 'cluster_centres': cluster_centers, \n",
    "                                                          'cluster_num_classes' : cluster_num_classes,\n",
    "                                                          'minority_class_counts': minority_class_counts}\n",
    "            # work out the f1 score for the prediction and add it to the list\n",
    "            f1 = f1_score(y_test, y_test_pred, average='macro')\n",
    "            f1_scores.append(f1)\n",
    "        # after doing the 10 folds, and getting 10 scores, work out the mean and std\n",
    "        results[i][version] = {'f1_macro_mean' : cv_score.mean(), 'f1_macro_std': cv_score.std()}\n",
    "        "
   ]
  },
  {
   "cell_type": "code",
   "execution_count": 79,
   "metadata": {},
   "outputs": [
    {
     "data": {
      "text/plain": [
       "[{'balanced': {'f1_macro_mean': 0.9953777777777777,\n",
       "   'f1_macro_std': 0.007060561070746784},\n",
       "  'low': {'f1_macro_mean': 0.9936915573959052,\n",
       "   'f1_macro_std': 0.010378772156154596},\n",
       "  'medium': {'f1_macro_mean': 0.989131492983667,\n",
       "   'f1_macro_std': 0.017053952359714842},\n",
       "  'high': {'f1_macro_mean': 0.9861150006193483,\n",
       "   'f1_macro_std': 0.03139585271354398}},\n",
       " {'balanced': {'f1_macro_mean': 0.9390349652687299,\n",
       "   'f1_macro_std': 0.033957560827722985},\n",
       "  'low': {'f1_macro_mean': 0.9178868334242687,\n",
       "   'f1_macro_std': 0.02528528186748168},\n",
       "  'medium': {'f1_macro_mean': 0.8903990253862908,\n",
       "   'f1_macro_std': 0.047229580966226196},\n",
       "  'high': {'f1_macro_mean': 0.8162770121322461,\n",
       "   'f1_macro_std': 0.0891462072123724}},\n",
       " {'balanced': {'f1_macro_mean': 0.9597306397306398,\n",
       "   'f1_macro_std': 0.044385023026018204},\n",
       "  'low': {'f1_macro_mean': 0.9597306397306398,\n",
       "   'f1_macro_std': 0.044385023026018204},\n",
       "  'medium': {'f1_macro_mean': 0.9663299663299663,\n",
       "   'f1_macro_std': 0.03367003367003368},\n",
       "  'high': {'f1_macro_mean': 0.942962962962963,\n",
       "   'f1_macro_std': 0.05984107556176329}}]"
      ]
     },
     "execution_count": 79,
     "metadata": {},
     "output_type": "execute_result"
    }
   ],
   "source": [
    "baseline_results"
   ]
  },
  {
   "cell_type": "code",
   "execution_count": 80,
   "metadata": {},
   "outputs": [
    {
     "data": {
      "text/plain": [
       "[{'balanced': {'f1_macro_mean': 0.942962962962963,\n",
       "   'f1_macro_std': 0.05984107556176329},\n",
       "  'low': {'f1_macro_mean': 0.942962962962963,\n",
       "   'f1_macro_std': 0.05984107556176329},\n",
       "  'medium': {'f1_macro_mean': 0.942962962962963,\n",
       "   'f1_macro_std': 0.05984107556176329},\n",
       "  'high': {'f1_macro_mean': 0.942962962962963,\n",
       "   'f1_macro_std': 0.05984107556176329}},\n",
       " {'balanced': {'f1_macro_mean': 0.942962962962963,\n",
       "   'f1_macro_std': 0.05984107556176329},\n",
       "  'low': {'f1_macro_mean': 0.942962962962963,\n",
       "   'f1_macro_std': 0.05984107556176329},\n",
       "  'medium': {'f1_macro_mean': 0.942962962962963,\n",
       "   'f1_macro_std': 0.05984107556176329},\n",
       "  'high': {'f1_macro_mean': 0.942962962962963,\n",
       "   'f1_macro_std': 0.05984107556176329}},\n",
       " {'balanced': {'f1_macro_mean': 0.942962962962963,\n",
       "   'f1_macro_std': 0.05984107556176329},\n",
       "  'low': {'f1_macro_mean': 0.942962962962963,\n",
       "   'f1_macro_std': 0.05984107556176329},\n",
       "  'medium': {'f1_macro_mean': 0.942962962962963,\n",
       "   'f1_macro_std': 0.05984107556176329},\n",
       "  'high': {'f1_macro_mean': 0.942962962962963,\n",
       "   'f1_macro_std': 0.05984107556176329}}]"
      ]
     },
     "execution_count": 80,
     "metadata": {},
     "output_type": "execute_result"
    }
   ],
   "source": [
    "results"
   ]
  },
  {
   "cell_type": "code",
   "execution_count": 81,
   "metadata": {},
   "outputs": [
    {
     "data": {
      "text/plain": [
       "[{'balanced': {'best_k': 2,\n",
       "   'cluster_centres': array([[90.1878209 , 25.3241791 , 89.91152239, 15.52626866, 87.70041791,\n",
       "           98.94746269,  1.09232836, 73.31044776],\n",
       "          [54.88454849, 18.62565886, 95.37407358,  8.23620067, 93.75729766,\n",
       "           79.03451505,  6.02498997, 56.56414716]]),\n",
       "   'cluster_num_classes': [3, 3],\n",
       "   'minority_class_counts': [114, 0]},\n",
       "  'low': {'best_k': 2,\n",
       "   'cluster_centres': array([[86.79133333, 24.34238596, 90.79164912, 14.57308772, 88.67522807,\n",
       "           97.4377193 ,  1.56277193, 70.85596491],\n",
       "          [53.9587234 , 18.48822695, 95.49339007,  8.08011348, 93.89730496,\n",
       "           78.40836879,  6.14788652, 56.22056738]]),\n",
       "   'cluster_num_classes': [3, 3],\n",
       "   'minority_class_counts': [56, 0]},\n",
       "  'medium': {'best_k': 2,\n",
       "   'cluster_centres': array([[53.4589781 , 18.40437956, 95.5860438 ,  7.97938686, 94.00423358,\n",
       "           78.01080292,  6.24840876, 56.01094891],\n",
       "          [85.16029493, 23.9001659 , 91.1637235 , 14.1401659 , 89.08637788,\n",
       "           96.70857143,  1.76571429, 69.75041475]]),\n",
       "   'cluster_num_classes': [3, 3],\n",
       "   'minority_class_counts': [0, 37]},\n",
       "  'high': {'best_k': 2,\n",
       "   'cluster_centres': array([[82.34038835, 23.14050485, 91.65650485, 13.41658252, 89.62407767,\n",
       "           95.3992233 ,  2.07013592, 67.85126214],\n",
       "          [52.77738462, 18.29329231, 95.72196923,  7.85064615, 94.16006154,\n",
       "           77.51553846,  6.39833846, 55.73323077]]),\n",
       "   'cluster_num_classes': [3, 3],\n",
       "   'minority_class_counts': [12, 0]}},\n",
       " {'balanced': {'best_k': 2,\n",
       "   'cluster_centres': array([[2.66832579e+01, 5.94928281e+03, 6.40723982e+00, 3.36425339e+00,\n",
       "           1.25339367e+00, 4.30022624e+01, 1.49773756e+00],\n",
       "          [2.68930131e+01, 1.79315502e+04, 5.95633188e+00, 3.22270742e+00,\n",
       "           1.29475983e+00, 4.40349345e+01, 1.49563319e+00]]),\n",
       "   'cluster_num_classes': [4, 4],\n",
       "   'minority_class_counts': [92, 106]},\n",
       "  'low': {'best_k': 2,\n",
       "   'cluster_centres': array([[2.63384224e+01, 6.01105089e+03, 6.50381679e+00, 3.40458015e+00,\n",
       "           1.24427481e+00, 4.39058524e+01, 1.50381679e+00],\n",
       "          [2.66960784e+01, 1.78496127e+04, 5.92647059e+00, 3.25245098e+00,\n",
       "           1.27450980e+00, 4.50441176e+01, 1.50490196e+00]]),\n",
       "   'cluster_num_classes': [4, 4],\n",
       "   'minority_class_counts': [43, 56]},\n",
       "  'medium': {'best_k': 2,\n",
       "   'cluster_centres': array([[2.63218085e+01, 6.11420745e+03, 6.53989362e+00, 3.38563830e+00,\n",
       "           1.22074468e+00, 4.41010638e+01, 1.51063830e+00],\n",
       "          [2.65473146e+01, 1.78159463e+04, 5.99488491e+00, 3.27621483e+00,\n",
       "           1.26086957e+00, 4.54219949e+01, 1.50639386e+00]]),\n",
       "   'cluster_num_classes': [4, 4],\n",
       "   'minority_class_counts': [26, 39]},\n",
       "  'high': {'best_k': 2,\n",
       "   'cluster_centres': array([[2.61863014e+01, 6.03855342e+03, 6.57808219e+00, 3.41095890e+00,\n",
       "           1.21369863e+00, 4.44219178e+01, 1.51232877e+00],\n",
       "          [2.63156425e+01, 1.78035503e+04, 6.01955307e+00, 3.29050279e+00,\n",
       "           1.24301676e+00, 4.62681564e+01, 1.50558659e+00]]),\n",
       "   'cluster_num_classes': [4, 4],\n",
       "   'minority_class_counts': [15, 6]}},\n",
       " {'balanced': {'best_k': 2,\n",
       "   'cluster_centres': array([[6.2862069 , 2.87931034, 4.94137931, 1.68735632],\n",
       "          [5.02083333, 3.36875   , 1.57916667, 0.29791667]]),\n",
       "   'cluster_num_classes': [2, 2],\n",
       "   'minority_class_counts': [0, 45]},\n",
       "  'low': {'best_k': 2,\n",
       "   'cluster_centres': array([[6.2862069 , 2.87931034, 4.94137931, 1.68735632],\n",
       "          [5.052     , 3.32      , 1.696     , 0.336     ]]),\n",
       "   'cluster_num_classes': [2, 2],\n",
       "   'minority_class_counts': [0, 22]},\n",
       "  'medium': {'best_k': 2,\n",
       "   'cluster_centres': array([[6.30116279, 2.88953488, 4.95813953, 1.69534884],\n",
       "          [5.05555556, 3.16666667, 1.87222222, 0.40555556]]),\n",
       "   'cluster_num_classes': [2, 2],\n",
       "   'minority_class_counts': [0, 14]},\n",
       "  'high': {'best_k': 3,\n",
       "   'cluster_centres': array([[6.88484848, 3.07575758, 5.75757576, 2.07878788],\n",
       "          [4.92      , 3.42      , 1.54      , 0.32      ],\n",
       "          [5.87192982, 2.74035088, 4.37719298, 1.42631579]]),\n",
       "   'cluster_num_classes': [2, 1, 2],\n",
       "   'minority_class_counts': [0, 5, 0]}}]"
      ]
     },
     "execution_count": 81,
     "metadata": {},
     "output_type": "execute_result"
    }
   ],
   "source": [
    "first_9_folds_cluster_info"
   ]
  },
  {
   "cell_type": "code",
   "execution_count": null,
   "metadata": {},
   "outputs": [],
   "source": []
  }
 ],
 "metadata": {
  "kernelspec": {
   "display_name": "Python 3",
   "language": "python",
   "name": "python3"
  },
  "language_info": {
   "codemirror_mode": {
    "name": "ipython",
    "version": 3
   },
   "file_extension": ".py",
   "mimetype": "text/x-python",
   "name": "python",
   "nbconvert_exporter": "python",
   "pygments_lexer": "ipython3",
   "version": "3.8.5"
  }
 },
 "nbformat": 4,
 "nbformat_minor": 4
}
